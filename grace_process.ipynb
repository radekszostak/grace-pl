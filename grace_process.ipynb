{
 "cells": [
  {
   "cell_type": "code",
   "execution_count": 1,
   "id": "35eac349-155f-49fb-939a-0232e1c9c347",
   "metadata": {
    "tags": []
   },
   "outputs": [],
   "source": [
    "import rioxarray\n",
    "import geopandas\n",
    "import os\n",
    "import datetime\n",
    "import pandas as pd\n",
    "import numpy as np\n",
    "from tqdm import tqdm\n",
    "import pickle"
   ]
  },
  {
   "cell_type": "code",
   "execution_count": null,
   "id": "3a3ee1cb-5454-4a17-bc80-f549d732994a",
   "metadata": {
    "tags": []
   },
   "outputs": [],
   "source": [
    "out_dir = \"data/_grace_tiff\"\n",
    "os.makedirs(out_dir, exist_ok=True)\n",
    "geodf = geopandas.read_file(\"data/aoi.geojson\")\n",
    "nc = rioxarray.open_rasterio(\"data/GRCTellus.JPL.200204_202202.GLO.RL06M.MSCNv02CRI.nc\", decode_times=False)[0]\n",
    "grace_start_date = datetime.datetime(2002, 1, 1)"
   ]
  },
  {
   "cell_type": "code",
   "execution_count": null,
   "id": "1cee4539",
   "metadata": {},
   "outputs": [],
   "source": [
    "nc"
   ]
  },
  {
   "cell_type": "markdown",
   "id": "60b83080",
   "metadata": {},
   "source": [
    "Extract tiffs from nc file directly into pandas dataframe. Data was upsampled to 8x13 to match others' data dimensions."
   ]
  },
  {
   "cell_type": "code",
   "execution_count": null,
   "id": "d2a26f73",
   "metadata": {
    "tags": []
   },
   "outputs": [],
   "source": [
    "nc = nc.rio.write_crs(\"EPSG:4326\")\n",
    "print(\"Extracting tifs...\")\n",
    "df = pd.DataFrame(columns = [\"date\", \"value\", \"mask\"])\n",
    "dates = []\n",
    "for lwe in tqdm(nc[\"lwe_thickness\"]):\n",
    "    lwe = lwe.rio.clip(geodf.geometry.values, geodf.crs, all_touched=True)\n",
    "    lwe = lwe.rio.write_crs(\"EPSG:4326\")\n",
    "    new_width = 13\n",
    "    new_height = 8\n",
    "\n",
    "    lwe_upsampled = lwe.rio.reproject(\n",
    "        lwe.rio.crs,\n",
    "        shape=(new_height, new_width),\n",
    "    )\n",
    "    lwe_datetime = grace_start_date + datetime.timedelta(days=int(lwe.time.values))\n",
    "    lwe_upsampled.values[lwe_upsampled.values < -99990] = np.nan\n",
    "    mean = lwe_upsampled.mean(skipna=True)\n",
    "    masked = lwe_upsampled.to_masked_array()\n",
    "    dates.append(lwe_datetime.strftime('%Y-%m-%d'))\n",
    "    df = df.append({'date': lwe_datetime.strftime('%Y-%m-%d'), 'value': masked.data, 'mask': np.invert(masked.mask)}, ignore_index=True)"
   ]
  },
  {
   "cell_type": "code",
   "execution_count": 10,
   "id": "459770a2-29c3-481d-85f5-afb581bea84a",
   "metadata": {},
   "outputs": [],
   "source": [
    "df.to_pickle(\"data/grace_df.pickle\")"
   ]
  },
  {
   "cell_type": "markdown",
   "id": "57345ede",
   "metadata": {},
   "source": [
    "Save grace dates into the file. This file is mandatory for other scripts to run."
   ]
  },
  {
   "cell_type": "code",
   "execution_count": 7,
   "id": "6f0ea1ed",
   "metadata": {},
   "outputs": [],
   "source": [
    "with open('data/grace_dates.pickle', 'wb') as f:\n",
    "    pickle.dump(dates, f)"
   ]
  }
 ],
 "metadata": {
  "kernelspec": {
   "display_name": "Python 3 (ipykernel)",
   "language": "python",
   "name": "python3"
  },
  "language_info": {
   "codemirror_mode": {
    "name": "ipython",
    "version": 3
   },
   "file_extension": ".py",
   "mimetype": "text/x-python",
   "name": "python",
   "nbconvert_exporter": "python",
   "pygments_lexer": "ipython3",
   "version": "3.10.5"
  },
  "vscode": {
   "interpreter": {
    "hash": "31f2aee4e71d21fbe5cf8b01ff0e069b9275f58929596ceb00d14d90e3e16cd6"
   }
  }
 },
 "nbformat": 4,
 "nbformat_minor": 5
}
