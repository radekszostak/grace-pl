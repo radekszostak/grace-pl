{
 "cells": [
  {
   "cell_type": "code",
   "execution_count": 14,
   "id": "a280adeb-8a49-4c56-96a8-b78cbb830991",
   "metadata": {},
   "outputs": [],
   "source": [
    "import rioxarray\n",
    "import geopandas\n",
    "import os\n",
    "import datetime\n",
    "from osgeo import gdal\n",
    "import cdsapi\n",
    "import datetime\n",
    "import rasterio\n",
    "import pandas as pd\n",
    "import pickle"
   ]
  },
  {
   "cell_type": "code",
   "execution_count": 9,
   "id": "42e88bd7-492e-471d-a02e-edffe90e17be",
   "metadata": {},
   "outputs": [],
   "source": [
    "grib_file = \"era_5_evap_soil_moist.grib\"\n",
    "dest_file = \"data/era_5_evap_soil_tiff/\" + \"era_5_evap_soil_moist.tiff\"\n",
    "dest_dir = \"data/era_5_evap_soil_tiff\"\n",
    "grace_dates_dir = \"data/grace_dates.pickle\""
   ]
  },
  {
   "cell_type": "markdown",
   "id": "8c6dc4f5",
   "metadata": {},
   "source": [
    "Method for downloading ERA-5 data. The data is downloaded from the Copernicus Climate Data Store (CDS) using the cdsapi package. The data is downloaded in grib format and saved to the specified directory (`grib_file`).\n",
    "monthly_averaged_reanalysis means that data with the date label contains averaged data from the last 30 days up to this date."
   ]
  },
  {
   "cell_type": "code",
   "execution_count": 20,
   "id": "a362aa18-4200-416c-9dea-62a2800a25e5",
   "metadata": {},
   "outputs": [
    {
     "name": "stderr",
     "output_type": "stream",
     "text": [
      "2023-07-11 22:36:17,608 INFO Welcome to the CDS\n",
      "2023-07-11 22:36:17,609 INFO Sending request to https://cds.climate.copernicus.eu/api/v2/resources/reanalysis-era5-single-levels-monthly-means\n",
      "2023-07-11 22:36:17,808 INFO Request is queued\n",
      "2023-07-11 22:36:18,900 INFO Request is running\n",
      "2023-07-11 23:04:44,459 INFO Request is completed\n",
      "2023-07-11 23:04:44,461 INFO Downloading https://download-0000-clone.copernicus-climate.eu/cache-compute-0000/cache/data6/adaptor.mars.internal-1689107778.3299725-31967-16-055edeb2-4462-4c2f-89be-4be3fb9be295.grib to era_5_evap_soil_moist.grib (295.3K)\n",
      "2023-07-11 23:04:49,219 INFO Download rate 62.1K/s \n"
     ]
    },
    {
     "data": {
      "text/plain": [
       "Result(content_length=302400,content_type=application/x-grib,location=https://download-0000-clone.copernicus-climate.eu/cache-compute-0000/cache/data6/adaptor.mars.internal-1689107778.3299725-31967-16-055edeb2-4462-4c2f-89be-4be3fb9be295.grib)"
      ]
     },
     "execution_count": 20,
     "metadata": {},
     "output_type": "execute_result"
    }
   ],
   "source": [
    "\n",
    "c = cdsapi.Client()\n",
    "\n",
    "c.retrieve(\n",
    "    'reanalysis-era5-single-levels-monthly-means',\n",
    "    {\n",
    "        'format': 'grib',\n",
    "        'variable': [\n",
    "            'evaporation', 'volumetric_soil_water_layer_1', 'volumetric_soil_water_layer_2',\n",
    "            'volumetric_soil_water_layer_3', 'volumetric_soil_water_layer_4',\n",
    "        ],\n",
    "        'year': [\n",
    "            '2002', '2003', '2004',\n",
    "            '2005', '2006', '2007',\n",
    "            '2008', '2009', '2010',\n",
    "            '2011', '2012', '2013',\n",
    "            '2014', '2015', '2016',\n",
    "            '2017', '2018', '2019',\n",
    "            '2020', '2021', '2022',\n",
    "        ],\n",
    "        'month': [\n",
    "            '01', '02', '03',\n",
    "            '04', '05', '06',\n",
    "            '07', '08', '09',\n",
    "            '10', '11', '12',\n",
    "        ],\n",
    "        'area': [\n",
    "            51.17, 18.4, 50.47,\n",
    "            19.68,\n",
    "        ],\n",
    "        'product_type': 'monthly_averaged_reanalysis',\n",
    "        'time': '00:00',\n",
    "    },\n",
    "    \n",
    "    grib_file)"
   ]
  },
  {
   "cell_type": "code",
   "execution_count": 10,
   "id": "719d83d6-41e0-4150-b78c-4faa3fe2aacb",
   "metadata": {},
   "outputs": [],
   "source": [
    "grib_f = \"data/\" + grib_file"
   ]
  },
  {
   "cell_type": "markdown",
   "id": "6326b1a9",
   "metadata": {},
   "source": [
    "An example how to extract TIFFs from the grib. Below there are cells for extracting particular variables (evaporation, soil moisture)."
   ]
  },
  {
   "cell_type": "code",
   "execution_count": null,
   "id": "5f940c83-f355-4878-9528-6005fb04e3ee",
   "metadata": {},
   "outputs": [],
   "source": [
    "if not os.path.exists(dest_dir):\n",
    "    os.makedirs(dest_dir)\n",
    "\n",
    "\n",
    "src_ds = gdal.Open(grib_f)\n",
    "bands = [] # Set up array for gdal.Translate(). \n",
    "if src_ds is not None:\n",
    "    bandNum = src_ds.RasterCount # Get band count\n",
    "for i in range(bandNum+1): # Update array based on band count\n",
    "    if (i==0): #gdal starts band counts at 1, not 0 like the Python for loop does.\n",
    "        pass\n",
    "    else:\n",
    "        bands.append(i)\n",
    "\n",
    "# Open output format driver\n",
    "out_form= \"GTiff\"\n",
    "\n",
    "# Output to new format using gdal.Translate. See https://gdal.org/python/ for osgeo.gdal.Translate options.\n",
    "dst_ds = gdal.Translate(dest_file, src_ds, format=out_form, bandList=bands)\n",
    "\n",
    "# Properly close the datasets to flush to disk\n",
    "dst_ds = None\n",
    "src_ds = None"
   ]
  },
  {
   "cell_type": "code",
   "execution_count": 15,
   "id": "c957f9c4-b6b4-49ae-bd96-134968999d41",
   "metadata": {},
   "outputs": [
    {
     "data": {
      "text/plain": [
       "{'GRIB_COMMENT': 'Volumetric soil water layer 1 [m^3/m^3]',\n",
       " 'GRIB_ELEMENT': 'SWVL1',\n",
       " 'GRIB_FORECAST_SECONDS': '0',\n",
       " 'GRIB_REF_TIME': '1009843200',\n",
       " 'GRIB_SHORT_NAME': '0-7-DBLY',\n",
       " 'GRIB_UNIT': '[m^3/m^3]',\n",
       " 'GRIB_VALID_TIME': '1009843200'}"
      ]
     },
     "execution_count": 15,
     "metadata": {},
     "output_type": "execute_result"
    }
   ],
   "source": [
    "ds = gdal.Open(grib_f)\n",
    "rasterBand = ds.GetRasterBand(2)\n",
    "meta = rasterBand.GetMetadata()\n",
    "dt = datetime.datetime.fromtimestamp(int(meta['GRIB_VALID_TIME'].lstrip()[:-8]))\n",
    "meta"
   ]
  },
  {
   "cell_type": "code",
   "execution_count": 16,
   "id": "52835621-8405-47ab-9d3b-11bb47f102d7",
   "metadata": {},
   "outputs": [],
   "source": [
    "def get_file_title(element):\n",
    "    if element.find(\"E\") != -1:\n",
    "        return \"evaporation/\" + element + \"_\"\n",
    "    if element.find(\"SWVL1\") != -1:\n",
    "        return \"vol_soil_lvl_1/\" + element + \"_\"\n",
    "    if element.find(\"SWVL2\") != -1:\n",
    "        return \"vol_soil_lvl_2/\" + element + \"_\"\n",
    "    if element.find(\"SWVL3\") != -1:\n",
    "        return \"vol_soil_lvl_3/\" + element + \"_\"\n",
    "    if element.find(\"SWVL4\") != -1:\n",
    "        return \"vol_soil_lvl_4/\" + element + \"_\""
   ]
  },
  {
   "cell_type": "code",
   "execution_count": 17,
   "id": "6476c5a0-e47c-46d6-949e-41f32f7dfe5e",
   "metadata": {},
   "outputs": [],
   "source": [
    "def prepare_datetime(date):\n",
    "    if date.strftime(\"%d\") != \"01\":\n",
    "        date = date + datetime.timedelta(days=1)\n",
    "    return date.strftime(\"%Y-%m-%d\")"
   ]
  },
  {
   "cell_type": "code",
   "execution_count": 18,
   "id": "cec5adb1-fd35-41ad-bae6-8ea71f28e7b6",
   "metadata": {},
   "outputs": [],
   "source": [
    "if not os.path.exists(\"data/era_5_evap_soil_tiff/evaporation\"):\n",
    "    os.makedirs(\"data/era_5_evap_soil_tiff/evaporation\")\n",
    "\n",
    "if not os.path.exists(\"data/era_5_evap_soil_tiff/vol_soil_lvl_1\"):\n",
    "    os.makedirs(\"data/era_5_evap_soil_tiff/vol_soil_lvl_1\")\n",
    "\n",
    "if not os.path.exists(\"data/era_5_evap_soil_tiff/vol_soil_lvl_2\"):\n",
    "    os.makedirs(\"data/era_5_evap_soil_tiff/vol_soil_lvl_2\")\n",
    "\n",
    "if not os.path.exists(\"data/era_5_evap_soil_tiff/vol_soil_lvl_3\"):\n",
    "    os.makedirs(\"data/era_5_evap_soil_tiff/vol_soil_lvl_3\")\n",
    "\n",
    "if not os.path.exists(\"data/era_5_evap_soil_tiff/vol_soil_lvl_4\"):\n",
    "    os.makedirs(\"data/era_5_evap_soil_tiff/vol_soil_lvl_4\")\n",
    "\n",
    "out_form= \"GTiff\"\n",
    "for i in range(1, ds.RasterCount+1):\n",
    "    rasterBand = ds.GetRasterBand(i)\n",
    "    meta = rasterBand.GetMetadata()\n",
    "    dt = prepare_datetime(datetime.datetime.fromtimestamp(int(meta['GRIB_VALID_TIME'].lstrip()[:-8])))\n",
    "    filename = get_file_title(meta['GRIB_ELEMENT']) + dt + \".tif\"\n",
    "    filename = os.path.join(dest_dir, filename)\n",
    "    dst_ds = gdal.Translate(filename, ds, format=out_form, bandList=[i])\n",
    "    dst_ds = None\n",
    "    "
   ]
  },
  {
   "cell_type": "markdown",
   "id": "58962cbc",
   "metadata": {},
   "source": [
    "Exportation of the particular data to pandas dataframes. Data format: {date, mask (array 8x13 pixels)}."
   ]
  },
  {
   "cell_type": "code",
   "execution_count": 23,
   "id": "ea2d5653-81ab-44fe-b595-d592b9df776a",
   "metadata": {},
   "outputs": [],
   "source": [
    "aoi_dir = \"data/aoi.geojson\"\n",
    "geodf = geopandas.read_file(aoi_dir)"
   ]
  },
  {
   "cell_type": "markdown",
   "id": "7c146b39",
   "metadata": {},
   "source": [
    "grace_dates - file necessary to read data only from dates with grace measurements. "
   ]
  },
  {
   "cell_type": "code",
   "execution_count": 24,
   "id": "8cffdef3",
   "metadata": {},
   "outputs": [],
   "source": [
    "with open(grace_dates_dir, 'rb') as f:\n",
    "    grace_dates = pickle.load(f)\n",
    "\n",
    "grace_dates = [datetime.datetime.strptime(date, \"%Y-%m-%d\") for date in grace_dates]"
   ]
  },
  {
   "cell_type": "code",
   "execution_count": 25,
   "id": "1e89f48c",
   "metadata": {},
   "outputs": [],
   "source": [
    "def find_year_and_month_datetime(dt, dates_list):\n",
    "    dt = datetime.datetime.strptime(dt, '%Y-%m-%d')\n",
    "    for date in dates_list:\n",
    "        if dt.year == date.year and dt.month == date.month:\n",
    "            return date\n",
    "    return None"
   ]
  },
  {
   "cell_type": "code",
   "execution_count": 26,
   "id": "e47b274a-5775-4a94-bbee-f7c5a26d1f46",
   "metadata": {},
   "outputs": [],
   "source": [
    "evaporation_dir = os.path.join(dest_dir, \"evaporation\")\n",
    "file_list = os.listdir(evaporation_dir)\n",
    "\n",
    "df = pd.DataFrame(columns = [\"date\", \"value\"])\n",
    "\n",
    "for f in file_list: \n",
    "    input_raster = os.path.join(evaporation_dir, f)\n",
    "    data = rasterio.open(input_raster)\n",
    "    data = rioxarray.open_rasterio(data)[0]\n",
    "    data = data.rio.write_crs(\"EPSG:4326\")\n",
    "    data = data.astype(\"float32\")\n",
    "    data = data.rio.clip(geodf.geometry.values, geodf.crs, all_touched=True)\n",
    "    data_upsampled = data.rio.reproject(\n",
    "        data.rio.crs,\n",
    "        shape=(8, 13),\n",
    "    )\n",
    "    data_upsampled = data_upsampled.rio.write_crs(\"EPSG:4326\")\n",
    "    masked = data_upsampled.to_masked_array()\n",
    "    dt = f[2:-4]\n",
    "    date = find_year_and_month_datetime(dt, grace_dates)\n",
    "    if date is not None:\n",
    "        df = df.append({'date': date.strftime(\"%Y-%m-%d\"), 'value': masked.data}, ignore_index=True)\n",
    "        if date.year == 2012 and date.month == 1:\n",
    "            df = df.append({'date': date.strftime(\"%Y-%m\") + \"-16\", 'value': masked.data}, ignore_index=True)\n",
    "        if date.year == 2015 and date.month == 4:\n",
    "            df = df.append({'date': \"2015-04-27\", 'value': masked.data}, ignore_index=True)\n",
    "    \n",
    "    \n",
    "df = df.sort_values(by=\"date\", ignore_index=True)\n",
    "df.to_pickle(\"data/era5_evaporation.pickle\")"
   ]
  },
  {
   "cell_type": "code",
   "execution_count": 27,
   "id": "922979f9-a967-45be-aea7-1c3c1bd0fef5",
   "metadata": {},
   "outputs": [],
   "source": [
    "vol_soil_lvl_1_dir = os.path.join(dest_dir, \"vol_soil_lvl_1\")\n",
    "file_list = os.listdir(vol_soil_lvl_1_dir)\n",
    "\n",
    "df = pd.DataFrame(columns = [\"date\", \"value\"])\n",
    "\n",
    "for f in file_list: \n",
    "    input_raster = os.path.join(vol_soil_lvl_1_dir, f)\n",
    "    data = rasterio.open(input_raster)\n",
    "    data = rioxarray.open_rasterio(data)[0]\n",
    "    data = data.rio.write_crs(\"EPSG:4326\")\n",
    "    data = data.astype(\"float32\")\n",
    "    data = data.rio.clip(geodf.geometry.values, geodf.crs, all_touched=True)\n",
    "    data_upsampled = data.rio.reproject(\n",
    "        data.rio.crs,\n",
    "        shape=(8, 13),\n",
    "    )\n",
    "    data_upsampled = data_upsampled.rio.write_crs(\"EPSG:4326\")\n",
    "    masked = data_upsampled.to_masked_array()\n",
    "    dt = f[6:-4]\n",
    "    date = find_year_and_month_datetime(dt, grace_dates)\n",
    "    if date is not None:\n",
    "        df = df.append({'date': date.strftime(\"%Y-%m-%d\"), 'value': masked.data}, ignore_index=True)\n",
    "        if date.year == 2012 and date.month == 1:\n",
    "            df = df.append({'date': date.strftime(\"%Y-%m\") + \"-16\", 'value': masked.data}, ignore_index=True)\n",
    "        if date.year == 2015 and date.month == 4:\n",
    "            df = df.append({'date': \"2015-04-27\", 'value': masked.data}, ignore_index=True)\n",
    "    \n",
    "df = df.sort_values(by=\"date\", ignore_index=True)\n",
    "df.to_pickle(\"data/era5_vol_soil_lvl_1.pickle\")"
   ]
  },
  {
   "cell_type": "code",
   "execution_count": 28,
   "id": "18466836-8a83-4a2c-a321-c06bdc14569f",
   "metadata": {},
   "outputs": [],
   "source": [
    "vol_soil_lvl_2_dir = os.path.join(dest_dir, \"vol_soil_lvl_2\")\n",
    "file_list = os.listdir(vol_soil_lvl_2_dir)\n",
    "\n",
    "df = pd.DataFrame(columns = [\"date\", \"value\"])\n",
    "\n",
    "for f in file_list: \n",
    "    input_raster = os.path.join(vol_soil_lvl_2_dir, f)\n",
    "    data = rasterio.open(input_raster)\n",
    "    data = rioxarray.open_rasterio(data)[0]\n",
    "    data = data.rio.write_crs(\"EPSG:4326\")\n",
    "    data = data.astype(\"float32\")\n",
    "    data = data.rio.clip(geodf.geometry.values, geodf.crs, all_touched=True)\n",
    "    data_upsampled = data.rio.reproject(\n",
    "        data.rio.crs,\n",
    "        shape=(8, 13),\n",
    "    )\n",
    "    data_upsampled = data_upsampled.rio.write_crs(\"EPSG:4326\")\n",
    "    masked = data_upsampled.to_masked_array()\n",
    "    dt = f[6:-4]\n",
    "    date = find_year_and_month_datetime(dt, grace_dates)\n",
    "    if date is not None:\n",
    "        df = df.append({'date': date.strftime(\"%Y-%m-%d\"), 'value': masked.data}, ignore_index=True)\n",
    "        if date.year == 2012 and date.month == 1:\n",
    "            df = df.append({'date': date.strftime(\"%Y-%m\") + \"-16\", 'value': masked.data}, ignore_index=True)\n",
    "        if date.year == 2015 and date.month == 4:\n",
    "            df = df.append({'date': \"2015-04-27\", 'value': masked.data}, ignore_index=True)\n",
    "    \n",
    "df = df.sort_values(by=\"date\", ignore_index=True)\n",
    "df.to_pickle(\"data/era5_vol_soil_lvl_2.pickle\")"
   ]
  },
  {
   "cell_type": "code",
   "execution_count": 29,
   "id": "20892b99-209f-4fa2-b98a-7bcef51cabea",
   "metadata": {},
   "outputs": [],
   "source": [
    "vol_soil_lvl_3_dir = os.path.join(dest_dir, \"vol_soil_lvl_3\")\n",
    "file_list = os.listdir(vol_soil_lvl_3_dir)\n",
    "\n",
    "df = pd.DataFrame(columns = [\"date\", \"value\"])\n",
    "\n",
    "for f in file_list: \n",
    "    input_raster = os.path.join(vol_soil_lvl_3_dir, f)\n",
    "    data = rasterio.open(input_raster)\n",
    "    data = rioxarray.open_rasterio(data)[0]\n",
    "    data = data.rio.write_crs(\"EPSG:4326\")\n",
    "    data = data.astype(\"float32\")\n",
    "    data = data.rio.clip(geodf.geometry.values, geodf.crs, all_touched=True)\n",
    "    data_upsampled = data.rio.reproject(\n",
    "        data.rio.crs,\n",
    "        shape=(8, 13),\n",
    "    )\n",
    "    data_upsampled = data_upsampled.rio.write_crs(\"EPSG:4326\")\n",
    "    masked = data_upsampled.to_masked_array()\n",
    "    dt = f[6:-4]\n",
    "    date = find_year_and_month_datetime(dt, grace_dates)\n",
    "    if date is not None:\n",
    "        df = df.append({'date': date.strftime(\"%Y-%m-%d\"), 'value': masked.data}, ignore_index=True)\n",
    "        if date.year == 2012 and date.month == 1:\n",
    "            df = df.append({'date': date.strftime(\"%Y-%m\") + \"-16\", 'value': masked.data}, ignore_index=True)\n",
    "        if date.year == 2015 and date.month == 4:\n",
    "            df = df.append({'date': \"2015-04-27\", 'value': masked.data}, ignore_index=True)\n",
    "    \n",
    "df = df.sort_values(by=\"date\", ignore_index=True)\n",
    "df.to_pickle(\"data/era5_vol_soil_lvl_3.pickle\")"
   ]
  },
  {
   "cell_type": "code",
   "execution_count": 30,
   "id": "3f3fc0fe-68ce-473d-9f61-ae56bc7493c1",
   "metadata": {},
   "outputs": [],
   "source": [
    "vol_soil_lvl_4_dir = os.path.join(dest_dir, \"vol_soil_lvl_4\")\n",
    "file_list = os.listdir(vol_soil_lvl_4_dir)\n",
    "\n",
    "df = pd.DataFrame(columns = [\"date\", \"value\"])\n",
    "\n",
    "for f in file_list: \n",
    "    input_raster = os.path.join(vol_soil_lvl_4_dir, f)\n",
    "    data = rasterio.open(input_raster)\n",
    "    data = rioxarray.open_rasterio(data)[0]\n",
    "    data = data.rio.write_crs(\"EPSG:4326\")\n",
    "    data = data.astype(\"float32\")\n",
    "    data = data.rio.clip(geodf.geometry.values, geodf.crs, all_touched=True)\n",
    "    data_upsampled = data.rio.reproject(\n",
    "        data.rio.crs,\n",
    "        shape=(8, 13),\n",
    "    )\n",
    "    data_upsampled = data_upsampled.rio.write_crs(\"EPSG:4326\")\n",
    "    masked = data_upsampled.to_masked_array()\n",
    "    dt = f[6:-4]\n",
    "    date = find_year_and_month_datetime(dt, grace_dates)\n",
    "    if date is not None:\n",
    "        df = df.append({'date': date.strftime(\"%Y-%m-%d\"), 'value': masked.data}, ignore_index=True)\n",
    "        if date.year == 2012 and date.month == 1:\n",
    "            df = df.append({'date': date.strftime(\"%Y-%m\") + \"-16\", 'value': masked.data}, ignore_index=True)\n",
    "        if date.year == 2015 and date.month == 4:\n",
    "            df = df.append({'date': \"2015-04-27\", 'value': masked.data}, ignore_index=True)\n",
    "    \n",
    "df = df.sort_values(by=\"date\", ignore_index=True)\n",
    "df.to_pickle(\"data/era5_vol_soil_lvl_4.pickle\")"
   ]
  }
 ],
 "metadata": {
  "kernelspec": {
   "display_name": "Python 3 (ipykernel)",
   "language": "python",
   "name": "python3"
  },
  "language_info": {
   "codemirror_mode": {
    "name": "ipython",
    "version": 3
   },
   "file_extension": ".py",
   "mimetype": "text/x-python",
   "name": "python",
   "nbconvert_exporter": "python",
   "pygments_lexer": "ipython3",
   "version": "3.10.5"
  }
 },
 "nbformat": 4,
 "nbformat_minor": 5
}
