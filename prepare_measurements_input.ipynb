{
 "cells": [
  {
   "cell_type": "code",
   "execution_count": null,
   "id": "dcdb7075-ba5d-47d6-860e-28e9b2e7c234",
   "metadata": {},
   "outputs": [],
   "source": [
    "import pandas as pd\n",
    "import os\n",
    "import geopandas\n",
    "import pickle\n",
    "from datetime import datetime"
   ]
  },
  {
   "cell_type": "code",
   "execution_count": null,
   "id": "6bf27d6e-d505-4ea5-8289-de0285b9446d",
   "metadata": {},
   "outputs": [],
   "source": [
    "measurements_dir = 'data/measurements/'\n",
    "grace_dates_dir = \"data/grace_dates.pickle\"\n",
    "input_data_dir = os.path.join(measurements_dir, 'input_data.json')\n",
    "input_data_manual = os.path.join(measurements_dir, \"GA_5513_1739_2022_quantitative_status_monitoring_manual.json\")\n",
    "input_data_automatic = os.path.join(measurements_dir, \"GA_5513_1739_2022_quantitative_status_monitoring_automatic.json\")"
   ]
  },
  {
   "cell_type": "code",
   "execution_count": null,
   "id": "3a5e0240",
   "metadata": {},
   "outputs": [],
   "source": [
    "def prepare_gdf(gdf):\n",
    "    df = pd.DataFrame(gdf.drop(columns='geometry'))\n",
    "    df = df.reset_index()\n",
    "    df = df.set_index([\"date\", \"name\"])\n",
    "    df = df.drop(columns=[\"index\"])\n",
    "    df = df.drop(columns=[\"value\", \"height\"])\n",
    "    df = df.rename({\"normalized_value\": \"value\" }, axis=1)\n",
    "    return df"
   ]
  },
  {
   "cell_type": "code",
   "execution_count": null,
   "id": "87b1f8a8",
   "metadata": {},
   "outputs": [],
   "source": [
    "manual_gdf = geopandas.read_file(input_data_manual)\n",
    "automatic_gdf = geopandas.read_file(input_data_automatic)\n",
    "\n",
    "manual_df = prepare_gdf(manual_gdf)\n",
    "automatic_df = prepare_gdf(automatic_gdf)\n",
    "\n",
    "manual_df[\"value\"] = manual_df[\"value\"].fillna(automatic_df[\"value\"])\n",
    "df = manual_df.reset_index()\n",
    "df = df.set_index([\"date\"])\n",
    "df = df.pivot(columns='name', values='value')\n",
    "cols = df.columns.values"
   ]
  },
  {
   "cell_type": "code",
   "execution_count": null,
   "id": "aec7bcc6",
   "metadata": {},
   "outputs": [],
   "source": [
    "with open(grace_dates_dir, 'rb') as f:\n",
    "    grace_dates = pickle.load(f)\n",
    "\n",
    "grace_dates = [datetime.strptime(date, \"%Y-%m-%d\") for date in grace_dates]"
   ]
  },
  {
   "cell_type": "code",
   "execution_count": null,
   "id": "13e3d11a",
   "metadata": {},
   "outputs": [],
   "source": [
    "def extract_data_for_station(df, grace_dates, station):\n",
    "    df2 = df[station]\n",
    "    df2.index = pd.to_datetime(df2.index)\n",
    "    df2 = df2.reset_index()\n",
    "\n",
    "    output_df = pd.DataFrame(columns = [\"date\", \"value\"])\n",
    "\n",
    "    for date in grace_dates:\n",
    "        idx = df2.date.searchsorted(date)\n",
    "        s_row = df2.iloc[idx]\n",
    "        value = 0\n",
    "        if s_row.date != date:\n",
    "            diff = s_row.date - date\n",
    "            if abs(diff.days) > 15:\n",
    "                continue\n",
    "            if s_row.date < date:\n",
    "                value = (s_row[station] + df2.iloc[idx+1][station])/2.0\n",
    "            else:\n",
    "                value = (s_row[station] + df2.iloc[idx-1][station])/2.0\n",
    "        else:\n",
    "            value = s_row[station]\n",
    "        output_df = output_df.append(pd.Series({\"date\": date.strftime('%Y-%m-%d'), \"value\": value}), ignore_index=True)\n",
    "    output_df = output_df.sort_values(by=\"date\", ignore_index=True)\n",
    "    return output_df"
   ]
  },
  {
   "cell_type": "code",
   "execution_count": null,
   "id": "4335e103",
   "metadata": {},
   "outputs": [],
   "source": [
    "def sanitize_station_name(station):\n",
    "    return station.replace(\"/\", \"_\")"
   ]
  },
  {
   "cell_type": "code",
   "execution_count": null,
   "id": "82eaaea8",
   "metadata": {},
   "outputs": [],
   "source": [
    "def extract_all_stations(df, grace_dates, stations):\n",
    "    for station in stations:\n",
    "        out_df = extract_data_for_station(df, grace_dates, station)\n",
    "        pd.to_pickle(out_df, \"data/measurements/\" + sanitize_station_name(station) + \".pickle\")"
   ]
  },
  {
   "cell_type": "code",
   "execution_count": null,
   "id": "24007a7a",
   "metadata": {},
   "outputs": [],
   "source": [
    "extract_all_stations(df, grace_dates, cols)"
   ]
  }
 ],
 "metadata": {
  "kernelspec": {
   "display_name": "Python 3 (ipykernel)",
   "language": "python",
   "name": "python3"
  },
  "language_info": {
   "codemirror_mode": {
    "name": "ipython",
    "version": 3
   },
   "file_extension": ".py",
   "mimetype": "text/x-python",
   "name": "python",
   "nbconvert_exporter": "python",
   "pygments_lexer": "ipython3",
   "version": "3.10.5"
  }
 },
 "nbformat": 4,
 "nbformat_minor": 5
}
