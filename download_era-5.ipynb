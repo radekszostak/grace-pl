{
 "cells": [
  {
   "cell_type": "code",
   "execution_count": 1,
   "id": "64501d81-160a-4b68-b500-0126aae81d75",
   "metadata": {},
   "outputs": [],
   "source": [
    "import cdsapi\n",
    "\n",
    "c = cdsapi.Client()"
   ]
  },
  {
   "cell_type": "code",
   "execution_count": 2,
   "id": "ef46dcc5-3105-4c16-9d32-d2ec63240598",
   "metadata": {},
   "outputs": [
    {
     "name": "stderr",
     "output_type": "stream",
     "text": [
      "2022-10-27 19:59:59,620 INFO Welcome to the CDS\n",
      "2022-10-27 19:59:59,622 INFO Sending request to https://cds.climate.copernicus.eu/api/v2/resources/reanalysis-era5-land\n",
      "2022-10-27 19:59:59,845 INFO Request is completed\n",
      "2022-10-27 19:59:59,848 INFO Downloading https://download-0021.copernicus-climate.eu/cache-compute-0021/cache/data0/adaptor.mars.internal-1666819919.0539439-19644-1-672b4b10-97d4-4e11-8859-45d69295a8ae.grib to era_5_2021.grib (12.9G)\n",
      "2022-10-27 21:58:13,002 ERROR Download interupted: HTTPSConnectionPool(host='download-0021.copernicus-climate.eu', port=443): Read timed out.\n",
      "2022-10-27 21:58:13,005 ERROR Download incomplete, downloaded 6213209088 byte(s) out of 13833792000\n",
      "2022-10-27 21:58:13,006 WARNING Sleeping 10 seconds\n",
      "2022-10-27 21:58:23,023 WARNING Resuming download at byte 6213209088\n",
      "2022-10-27 23:58:12,975 ERROR Download interupted: HTTPSConnectionPool(host='download-0021.copernicus-climate.eu', port=443): Read timed out.\n",
      "2022-10-27 23:58:12,978 ERROR Download incomplete, downloaded 13488777216 byte(s) out of 13833792000\n",
      "2022-10-27 23:58:12,980 WARNING Sleeping 15.0 seconds\n",
      "2022-10-27 23:58:27,996 WARNING Resuming download at byte 13488777216\n",
      "2022-10-28 00:03:39,189 INFO Download rate 924.1K/s \n"
     ]
    },
    {
     "data": {
      "text/plain": [
       "Result(content_length=13833792000,content_type=application/x-grib,location=https://download-0021.copernicus-climate.eu/cache-compute-0021/cache/data0/adaptor.mars.internal-1666819919.0539439-19644-1-672b4b10-97d4-4e11-8859-45d69295a8ae.grib)"
      ]
     },
     "execution_count": 2,
     "metadata": {},
     "output_type": "execute_result"
    }
   ],
   "source": [
    "c.retrieve(\n",
    "    'reanalysis-era5-land',\n",
    "    {\n",
    "        'variable': [\n",
    "            '2m_temperature', 'leaf_area_index_high_vegetation', 'snowfall',\n",
    "            'snowmelt', 'total_evaporation', 'total_precipitation',\n",
    "        ],\n",
    "        'year': '2021',\n",
    "        'month': [\n",
    "            '01', '02', '03',\n",
    "            '04', '05', '06',\n",
    "            '07', '08', '09',\n",
    "            '10', '11', '12',\n",
    "        ],\n",
    "        'day': [\n",
    "            '01', '02', '03',\n",
    "            '04', '05', '06',\n",
    "            '07', '08', '09',\n",
    "            '10', '11', '12',\n",
    "            '13', '14', '15',\n",
    "            '16', '17', '18',\n",
    "            '19', '20', '21',\n",
    "            '22', '23', '24',\n",
    "            '25', '26', '27',\n",
    "            '28', '29', '30',\n",
    "            '31',\n",
    "        ],\n",
    "        'time': [\n",
    "            '00:00', '01:00', '02:00',\n",
    "            '03:00', '04:00', '05:00',\n",
    "            '06:00', '07:00', '08:00',\n",
    "            '09:00', '10:00', '11:00',\n",
    "            '12:00', '13:00', '14:00',\n",
    "            '15:00', '16:00', '17:00',\n",
    "            '18:00', '19:00', '20:00',\n",
    "            '21:00', '22:00', '23:00',\n",
    "        ],\n",
    "        'area': [\n",
    "            55, 13, -48,\n",
    "            25,\n",
    "        ],\n",
    "        'format': 'grib',\n",
    "    },\n",
    "    'era_5_2021.grib')"
   ]
  },
  {
   "cell_type": "code",
   "execution_count": 2,
   "id": "791331c6-0277-469e-bb86-2d4afa14c314",
   "metadata": {},
   "outputs": [
    {
     "name": "stderr",
     "output_type": "stream",
     "text": [
      "2022-11-03 22:45:26,137 INFO Welcome to the CDS\n",
      "2022-11-03 22:45:26,138 INFO Sending request to https://cds.climate.copernicus.eu/api/v2/resources/reanalysis-era5-land\n",
      "2022-11-03 22:45:26,240 INFO Request is queued\n",
      "2022-11-03 22:45:31,179 INFO Request is running\n",
      "2022-11-03 22:46:41,779 INFO Request is completed\n",
      "2022-11-03 22:46:41,781 INFO Downloading https://download-0016.copernicus-climate.eu/cache-compute-0016/cache/data2/adaptor.mars.internal-1667515529.48559-13546-4-a4edef3b-3d26-4f8b-ad49-f6b1d12042e2.grib to era_5_2021_02-01_01.grib (72.3M)\n",
      "2022-11-03 22:48:18,379 INFO Download rate 766.3K/s \n"
     ]
    },
    {
     "data": {
      "text/plain": [
       "Result(content_length=75801600,content_type=application/x-grib,location=https://download-0016.copernicus-climate.eu/cache-compute-0016/cache/data2/adaptor.mars.internal-1667515529.48559-13546-4-a4edef3b-3d26-4f8b-ad49-f6b1d12042e2.grib)"
      ]
     },
     "execution_count": 2,
     "metadata": {},
     "output_type": "execute_result"
    }
   ],
   "source": [
    "c.retrieve(\n",
    "    'reanalysis-era5-land',\n",
    "    {\n",
    "        'variable': [\n",
    "            '2m_temperature', 'leaf_area_index_high_vegetation', 'snowfall',\n",
    "            'snowmelt', 'total_evaporation', 'total_precipitation',\n",
    "        ],\n",
    "        'year': '2021',\n",
    "        'month': [\n",
    "            '01',\n",
    "        ],\n",
    "        'day': [\n",
    "            '01', '02',\n",
    "        ],\n",
    "        'time': [\n",
    "            '00:00', '01:00', '02:00',\n",
    "            '03:00', '04:00', '05:00',\n",
    "            '06:00', '07:00', '08:00',\n",
    "            '09:00', '10:00', '11:00',\n",
    "            '12:00', '13:00', '14:00',\n",
    "            '15:00', '16:00', '17:00',\n",
    "            '18:00', '19:00', '20:00',\n",
    "            '21:00', '22:00', '23:00',\n",
    "        ],\n",
    "        'area': [\n",
    "            55, 13, -48,\n",
    "            25,\n",
    "        ],\n",
    "        'format': 'grib',\n",
    "    },\n",
    "    'era_5_2021_02-01_01.grib')"
   ]
  },
  {
   "cell_type": "code",
   "execution_count": null,
   "id": "e0d8c472-3174-40dd-9590-3c60fe3dcb4f",
   "metadata": {},
   "outputs": [],
   "source": []
  }
 ],
 "metadata": {
  "kernelspec": {
   "display_name": "Python 3 (ipykernel)",
   "language": "python",
   "name": "python3"
  },
  "language_info": {
   "codemirror_mode": {
    "name": "ipython",
    "version": 3
   },
   "file_extension": ".py",
   "mimetype": "text/x-python",
   "name": "python",
   "nbconvert_exporter": "python",
   "pygments_lexer": "ipython3",
   "version": "3.9.2"
  }
 },
 "nbformat": 4,
 "nbformat_minor": 5
}
