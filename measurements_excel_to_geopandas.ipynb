{
 "cells": [
  {
   "cell_type": "code",
   "execution_count": null,
   "metadata": {},
   "outputs": [],
   "source": [
    "import geopandas\n",
    "import leafmap\n",
    "import geoplot\n",
    "import geoplot.crs as gcrs\n",
    "import pandas as pd\n",
    "import matplotlib.pyplot as plt"
   ]
  },
  {
   "cell_type": "markdown",
   "metadata": {},
   "source": [
    "This file is used to convert data from excel format to geopandas dataframe. The notebook contains also some plots and analysis of the data."
   ]
  },
  {
   "cell_type": "code",
   "execution_count": null,
   "metadata": {},
   "outputs": [],
   "source": [
    "aoi_dir = \"data/aoi.geojson\"\n",
    "points = \"data/measurements/shp_GA_5513_1739_2022/GA_5513_1739_2022_punkty_czynne_i_archiwalne_m_ilosc_i_bad.shp\""
   ]
  },
  {
   "cell_type": "code",
   "execution_count": null,
   "metadata": {},
   "outputs": [],
   "source": [
    "geodf = geopandas.read_file(aoi_dir)\n",
    "points_df = geopandas.read_file(points)\n",
    "points_df = points_df.set_crs(\"EPSG:2180\")\n",
    "points_df = points_df.to_crs(\"EPSG:4326\")\n",
    "points_df['geometry'] = points_df['geometry'].explode(index_parts=False)"
   ]
  },
  {
   "cell_type": "code",
   "execution_count": null,
   "metadata": {},
   "outputs": [],
   "source": [
    "points_df.head(2)"
   ]
  },
  {
   "cell_type": "code",
   "execution_count": null,
   "metadata": {},
   "outputs": [],
   "source": [
    "ax = geoplot.polyplot(geodf, projection=gcrs.AlbersEqualArea(), edgecolor='darkgrey', facecolor='lightgrey', linewidth=.3,\n",
    "    figsize=(12, 8))\n",
    "geoplot.pointplot(points_df, ax=ax)"
   ]
  },
  {
   "cell_type": "code",
   "execution_count": null,
   "metadata": {},
   "outputs": [],
   "source": [
    "def excel_to_geopandas(excel_data_dir, points_data_dir):\n",
    "    excel_data = pd.read_excel(excel_data_dir)\n",
    "    excel_data = excel_data.drop(excel_data.index[0])\n",
    "    excel_data.columns = excel_data.iloc[0]\n",
    "    excel_data = excel_data.drop(excel_data.index[0])\n",
    "    excel_data.reset_index(inplace=True)\n",
    "    excel_data.drop(\"index\", inplace=True, axis=1)\n",
    "    excel_data = excel_data.rename(columns = {\"Data/Punkty\": \"date\"})\n",
    "\n",
    "    excel_data[\"date\"] = pd.to_datetime(excel_data[\"date\"], format='%Y-%m-%d %H:%M:%S')\n",
    "    excel_data[excel_data.loc[:, excel_data.columns != \"date\"].columns] = excel_data[excel_data.loc[:, excel_data.columns != \"date\"].columns].astype('float64')\n",
    "    excel_data_melted = excel_data.melt(id_vars=[\"date\"],\n",
    "                             var_name=\"name\",\n",
    "                             value_name=\"value\")\n",
    "    points_data = pd.read_excel(points_data_dir)\n",
    "    points_data = points_data[[\"Numer punktu monitoringu stanu ilościowego\", \"Rzędna terenu [m n.p.m.]\", \"Współrzędne PUWG 1992 X\", \"Współrzędne PUWG 1992 Y\"]]\n",
    "    points_data = points_data.rename(columns = {\"Numer punktu monitoringu stanu ilościowego\": \"name\", \"Rzędna terenu [m n.p.m.]\": \"height\", \"Współrzędne PUWG 1992 X\": \"longitude\", \"Współrzędne PUWG 1992 Y\": \"latitude\"}) \n",
    "    data_merged = pd.merge(excel_data_melted, points_data, on=\"name\")\n",
    "    data_merged[\"normalized_value\"] = data_merged[\"height\"] - data_merged[\"value\"] \n",
    "    gdf = geopandas.GeoDataFrame(data_merged, geometry=geopandas.points_from_xy(data_merged.longitude, data_merged.latitude))\n",
    "    \n",
    "    gdf = gdf.set_crs(\"EPSG:2180\")\n",
    "    gdf = gdf.to_crs(\"EPSG:4326\")\n",
    "    gdf = gdf.drop([\"longitude\", \"latitude\"], axis=1)\n",
    "    return gdf\n",
    "    "
   ]
  },
  {
   "cell_type": "code",
   "execution_count": null,
   "metadata": {},
   "outputs": [],
   "source": [
    "excel_data_dirs = [\"data/measurements/GA_5513_1739_2022_monitoring_st_ilosciowego_pomiary_manualne.xls\", \"data/measurements/GA_5513_1739_2022_monitoring_st_ilosciowego_pomiary_automatyczne.xls\"]\n",
    "excel_data_geojson_dirs = [\"data/measurements/GA_5513_1739_2022_quantitative_status_monitoring_manual.json\", \"data/measurements/GA_5513_1739_2022_quantitative_status_monitoring_automatic.json\"]\n",
    "excel_data = pd.read_excel(excel_data_dirs[0])\n",
    "excel_data.head()"
   ]
  },
  {
   "cell_type": "code",
   "execution_count": null,
   "metadata": {},
   "outputs": [],
   "source": [
    "points_data_dir = \"data/measurements/GA_5513_1739_2022_dane_o_punktach_czynnych_i_archiwalnych.xls\""
   ]
  },
  {
   "cell_type": "code",
   "execution_count": null,
   "metadata": {},
   "outputs": [],
   "source": [
    "#Uncomment to generate geojson files\n",
    "#for i, excel_data in enumerate(excel_data_dirs):\n",
    "#    gdf = excel_to_geopandas(excel_data, points_data_dir)\n",
    "#    gdf.to_file(excel_data_geojson_dirs[i], driver=\"GeoJSON\")"
   ]
  },
  {
   "cell_type": "code",
   "execution_count": null,
   "metadata": {},
   "outputs": [],
   "source": [
    "gdf_manual = excel_to_geopandas(excel_data_dirs[0], points_data_dir)\n",
    "gdf_auto = excel_to_geopandas(excel_data_dirs[1], points_data_dir)\n",
    "\n",
    "gdf_manual = gdf_manual.dropna()\n",
    "gdf_auto = gdf_auto.dropna()\n",
    "\n",
    "        \n",
    "    "
   ]
  },
  {
   "attachments": {},
   "cell_type": "markdown",
   "metadata": {},
   "source": [
    "Some plots & correlation matrix"
   ]
  },
  {
   "cell_type": "code",
   "execution_count": null,
   "metadata": {},
   "outputs": [],
   "source": [
    "#auto stations are continuation of manual stations\n",
    "plt.rcParams[\"figure.figsize\"] = (20,10)\n",
    "fig, axs = plt.subplots(1, 2)\n",
    "ax = axs[0]\n",
    "for name in gdf_auto['name'].unique():\n",
    "    gdf[gdf['name'] == name].plot(kind='line',x='date',y='value',ax=ax, c=\"black\", label=\"Concatenated\", style='-', linewidth=8)\n",
    "    gdf_manual[gdf_manual['name'] == name].plot(kind='line',x='date',y='value', c=\"blue\", ax=ax, label=\"Manual\", style='-', linewidth=4)\n",
    "    gdf_auto[gdf_auto['name'] == name].plot(kind='line',x='date',y='value',ax=ax, c=\"red\", label=\"Automatic\", style='-')\n",
    "\n",
    "handles, labels = ax.get_legend_handles_labels()\n",
    "by_label = dict(zip(labels, handles))\n",
    "ax.legend(by_label.values(), by_label.keys())\n",
    "\n",
    "ax = axs[1]\n",
    "for name in gdf_auto['name'].unique():\n",
    "    gdf[gdf['name'] == name].plot(kind='line',x='date',y='normalized_value',ax=ax, c=\"black\", label=\"Concatenated\", style='-', linewidth=8)\n",
    "    gdf_manual[gdf_manual['name'] == name].plot(kind='line',x='date',y='normalized_value', c=\"blue\", ax=ax, label=\"Manual\", style='-', linewidth=4)\n",
    "    gdf_auto[gdf_auto['name'] == name].plot(kind='line',x='date',y='normalized_value',ax=ax, c=\"red\", label=\"Automatic\", style='-')\n",
    "\n",
    "handles, labels = ax.get_legend_handles_labels()\n",
    "by_label = dict(zip(labels, handles))\n",
    "ax.legend(by_label.values(), by_label.keys())\n",
    "\n",
    "plt.show()"
   ]
  },
  {
   "cell_type": "code",
   "execution_count": null,
   "metadata": {},
   "outputs": [],
   "source": [
    "fig, ax = plt.subplots()\n",
    "for name in gdf_auto['name'].unique():\n",
    "    gdf[gdf['name'] == name].plot(kind='line',x='date',y='normalized_value',ax=ax, c=\"black\", label=\"Concatenated\", style='-', linewidth=8)\n",
    "    gdf_manual[gdf_manual['name'] == name].plot(kind='line',x='date',y='normalized_value', c=\"blue\", ax=ax, label=\"Manual\", style='-', linewidth=4)\n",
    "    gdf_auto[gdf_auto['name'] == name].plot(kind='line',x='date',y='normalized_value',ax=ax, c=\"red\", label=\"Automatic\", style='-')\n",
    "\n",
    "handles, labels = ax.get_legend_handles_labels()\n",
    "by_label = dict(zip(labels, handles))\n",
    "ax.legend(by_label.values(), by_label.keys())\n",
    "plt.show()"
   ]
  },
  {
   "cell_type": "code",
   "execution_count": null,
   "metadata": {},
   "outputs": [],
   "source": [
    "corr = gdf.set_index('date')\n",
    "corr = corr.pivot(columns='name', values='normalized_value')\n",
    "corr = corr.corr()\n",
    "#plot correlation matrix\n",
    "plt.matshow(corr)\n",
    "plt.xticks(range(len(corr.columns)), corr.columns, rotation='vertical')\n",
    "plt.yticks(range(len(corr.columns)), corr.columns)\n",
    "plt.colorbar()\n",
    "plt.show()"
   ]
  },
  {
   "cell_type": "code",
   "execution_count": null,
   "metadata": {},
   "outputs": [],
   "source": [
    "m = leafmap.Map()\n",
    "m.add_gdf(gdf.drop([\"date\", \"value\"], axis=1).drop_duplicates(subset=\"geometry\", keep=\"first\"), layer_name=\"Stations\", info_mode=\"on_click\")\n",
    "m.add_geojson(\"data/aoi.geojson\", layer_name=\"AOI\", info_mode=\"on_click\")\n",
    "m"
   ]
  },
  {
   "cell_type": "code",
   "execution_count": null,
   "metadata": {},
   "outputs": [],
   "source": []
  },
  {
   "cell_type": "code",
   "execution_count": null,
   "metadata": {},
   "outputs": [],
   "source": []
  }
 ],
 "metadata": {
  "kernelspec": {
   "display_name": "Python 3",
   "language": "python",
   "name": "python3"
  },
  "language_info": {
   "codemirror_mode": {
    "name": "ipython",
    "version": 3
   },
   "file_extension": ".py",
   "mimetype": "text/x-python",
   "name": "python",
   "nbconvert_exporter": "python",
   "pygments_lexer": "ipython3",
   "version": "3.10.5"
  },
  "orig_nbformat": 4
 },
 "nbformat": 4,
 "nbformat_minor": 2
}
