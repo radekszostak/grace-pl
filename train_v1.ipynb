{
  "cells": [
    {
      "cell_type": "code",
      "execution_count": null,
      "id": "Izn_VW1w4oz7",
      "metadata": {
        "colab": {
          "base_uri": "https://localhost:8080/"
        },
        "id": "Izn_VW1w4oz7",
        "outputId": "5186144c-ebf9-4d8a-8fcb-64365682874a"
      },
      "outputs": [],
      "source": [
        "#Google colab setup\n",
        "!pip install ray"
      ]
    },
    {
      "cell_type": "code",
      "execution_count": null,
      "id": "056e29ce-356d-4c7a-9660-959071839ccb",
      "metadata": {
        "id": "056e29ce-356d-4c7a-9660-959071839ccb"
      },
      "outputs": [],
      "source": [
        "import pandas as pd\n",
        "import numpy as np\n",
        "import torch\n",
        "from torch.utils.data import Dataset, DataLoader\n",
        "from sklearn.metrics import mean_squared_error, mean_absolute_error\n",
        "import os\n",
        "import xgboost as xgb\n",
        "import ray\n",
        "from ray import train\n",
        "from ray import tune\n",
        "from ray.air import session\n",
        "from ray.tune.schedulers import ASHAScheduler"
      ]
    },
    {
      "cell_type": "markdown",
      "id": "f8166f87",
      "metadata": {
        "id": "f8166f87"
      },
      "source": [
        "For computing on google colab resources."
      ]
    },
    {
      "cell_type": "code",
      "execution_count": null,
      "id": "KZTbx598esKR",
      "metadata": {
        "colab": {
          "base_uri": "https://localhost:8080/"
        },
        "id": "KZTbx598esKR",
        "outputId": "c829d41d-2787-43fb-d6a3-4d839bcf2f8d"
      },
      "outputs": [],
      "source": [
        "from google.colab import drive\n",
        "drive.mount(\"/content/drive\", force_remount=True)"
      ]
    },
    {
      "cell_type": "code",
      "execution_count": null,
      "id": "fc3b8746",
      "metadata": {
        "id": "fc3b8746"
      },
      "outputs": [],
      "source": [
        "device = torch.device(\"cpu\")\n",
        "if torch.cuda.is_available():\n",
        "    device = torch.device(\"cuda\")"
      ]
    },
    {
      "cell_type": "code",
      "execution_count": null,
      "id": "159f1676",
      "metadata": {
        "id": "159f1676"
      },
      "outputs": [],
      "source": [
        "class CustomDataset(Dataset):\n",
        "    def __init__(self, data, target):\n",
        "        self.data = data\n",
        "        self.target = target\n",
        "\n",
        "    def __getitem__(self, index):\n",
        "        return self.data[index], self.target[index]\n",
        "\n",
        "    def __len__(self):\n",
        "        return len(self.data)"
      ]
    },
    {
      "cell_type": "code",
      "execution_count": null,
      "id": "jOJaObEhAAmp",
      "metadata": {
        "id": "jOJaObEhAAmp"
      },
      "outputs": [],
      "source": [
        "class RMSLELoss(torch.nn.Module):\n",
        "    def __init__(self):\n",
        "        super().__init__()\n",
        "        self.mse = torch.nn.MSELoss()\n",
        "\n",
        "    def forward(self, pred, actual):\n",
        "        return torch.sqrt(self.mse(torch.log(pred + 1), torch.log(actual + 1)))"
      ]
    },
    {
      "cell_type": "code",
      "execution_count": null,
      "id": "a5179ef6",
      "metadata": {
        "id": "a5179ef6"
      },
      "outputs": [],
      "source": [
        "class EarlyStopping:\n",
        "    def __init__(self, tolerance=5, min_delta=0):\n",
        "\n",
        "        self.tolerance = tolerance\n",
        "        self.min_delta = min_delta\n",
        "        self.counter = 0\n",
        "        self.early_stop = False\n",
        "\n",
        "    def __call__(self, train_loss, validation_loss):\n",
        "        if (validation_loss - train_loss) > self.min_delta:\n",
        "            self.counter +=1\n",
        "            if self.counter >= self.tolerance:\n",
        "                self.early_stop = True\n",
        "        else:\n",
        "            self.counter = 0"
      ]
    },
    {
      "cell_type": "code",
      "execution_count": null,
      "id": "05c995c5-1d9d-44d1-b059-c33d30369802",
      "metadata": {
        "id": "05c995c5-1d9d-44d1-b059-c33d30369802"
      },
      "outputs": [],
      "source": [
        "class LSTMModel(torch.nn.Module):\n",
        "    def __init__(self, input_size, hidden_size, num_layers, output_size):\n",
        "        super(LSTMModel, self).__init__()\n",
        "        self.hidden_size = hidden_size\n",
        "        self.num_layers = num_layers\n",
        "        self.lstm = torch.nn.LSTM(input_size, hidden_size, num_layers, batch_first=True)\n",
        "        self.fc = torch.nn.Linear(hidden_size, output_size)\n",
        "\n",
        "    def forward(self, x):\n",
        "        h0 = torch.zeros(self.num_layers, x.size(0), self.hidden_size).to(x.device)\n",
        "        c0 = torch.zeros(self.num_layers, x.size(0), self.hidden_size).to(x.device)\n",
        "\n",
        "        out, _ = self.lstm(x, (h0, c0))\n",
        "\n",
        "        out = self.fc(out[:, -1, :])\n",
        "        return out"
      ]
    },
    {
      "cell_type": "markdown",
      "id": "ec5a0094",
      "metadata": {
        "id": "ec5a0094"
      },
      "source": [
        "Uncomment the line in cell below if you want to use ray framework.\n"
      ]
    },
    {
      "cell_type": "code",
      "execution_count": null,
      "id": "Xsbl4zsbEOLf",
      "metadata": {
        "id": "Xsbl4zsbEOLf"
      },
      "outputs": [],
      "source": [
        "def train_fn(config):\n",
        "  device = torch.device(\"cpu\")\n",
        "  if torch.cuda.is_available():\n",
        "    device = torch.device(\"cuda\")\n",
        "\n",
        "  train_loader = DataLoader(config[\"ds\"], batch_size=config[\"batch_size\"], shuffle=False)\n",
        "\n",
        "  test_dataloader = DataLoader(config[\"test_ds\"], batch_size=config[\"batch_size\"], shuffle=False)\n",
        "\n",
        "  early_stopping = EarlyStopping(tolerance=config[\"tolerance\"], min_delta=config[\"min_delta\"])\n",
        "\n",
        "  model = LSTMModel(config[\"input_size\"], config[\"hidden_size\"], config[\"num_layer\"], 1)\n",
        "  model.to(device)\n",
        "  criterion = torch.nn.HuberLoss()\n",
        "  optimizer = torch.optim.SGD(model.parameters(), lr=config[\"learning_rate\"])\n",
        "  epoch_test_loss = 0\n",
        "\n",
        "  for epoch in range(config[\"epoch\"]):\n",
        "      epoch_test_loss = []\n",
        "      epoch_loss = []\n",
        "      model.train()\n",
        "      for batch_x, batch_y in train_loader:\n",
        "          batch_x = batch_x.to(device)\n",
        "          batch_y = batch_y.to(device)\n",
        "          optimizer.zero_grad()\n",
        "          y_pred = model(batch_x)\n",
        "          loss = criterion(y_pred, batch_y).to(device)\n",
        "          loss.backward()\n",
        "          epoch_loss.append(loss.item())\n",
        "          optimizer.step()\n",
        "      epoch_loss = np.sum(epoch_loss)\n",
        "\n",
        "      model.eval()\n",
        "\n",
        "      with torch.no_grad():\n",
        "          for batch_test_x, batch_test_y in test_dataloader:\n",
        "              batch_test_x = batch_test_x.to(device)\n",
        "              batch_test_y = batch_test_y.to(device)\n",
        "              y_test_pred = model(batch_test_x)\n",
        "              test_loss = criterion(y_test_pred, batch_test_y).to(device)\n",
        "              epoch_test_loss.append(test_loss.item())\n",
        "          epoch_test_loss = np.sum(epoch_test_loss)\n",
        "\n",
        "      early_stopping(epoch_loss, epoch_test_loss)\n",
        "      if early_stopping.early_stop:\n",
        "        train.report({\"loss\": epoch_test_loss})\n",
        "        break\n",
        "\n",
        "      train.report({\"loss\": epoch_test_loss})"
      ]
    },
    {
      "cell_type": "code",
      "execution_count": null,
      "id": "wobVXSe4Of9h",
      "metadata": {
        "id": "wobVXSe4Of9h"
      },
      "outputs": [],
      "source": [
        "def find_best_config(ds, test_ds, input_size):\n",
        "  config = {\n",
        "      \"batch_size\": tune.choice([16, 32, 64]),\n",
        "      \"hidden_size\": tune.choice([2 ** i for i in range(9)]),\n",
        "      \"num_layer\": tune.choice([1, 2, 3, 4, 5, 6, 7, 8]),\n",
        "      \"epoch\": tune.choice([60, 80, 100, 150, 200, 500, 700, 1000]),\n",
        "      \"learning_rate\": tune.loguniform(0.005, 0.1),\n",
        "      \"ds\": ds,\n",
        "      \"test_ds\": test_ds,\n",
        "      \"input_size\": input_size,\n",
        "      \"tolerance\": tune.choice([1, 2, 3, 4, 5]),\n",
        "      \"min_delta\": tune.choice([1, 2, 3, 5, 10, 15, 20, 25, 30])\n",
        "  }\n",
        "  scheduler = ASHAScheduler(\n",
        "        max_t=1000,\n",
        "        grace_period=1,\n",
        "        reduction_factor=2)\n",
        "\n",
        "  ray.init(object_store_memory=10**10)\n",
        "  tuner = tune.Tuner(\n",
        "          tune.with_resources(\n",
        "              tune.with_parameters(train_fn),\n",
        "              resources={\"cpu\": 1, \"gpu\": 1}\n",
        "          ),\n",
        "          tune_config=tune.TuneConfig(\n",
        "              metric=\"loss\",\n",
        "              mode=\"min\",\n",
        "              scheduler=scheduler,\n",
        "              num_samples=100,\n",
        "          ),\n",
        "          param_space=config,\n",
        "      )\n",
        "  results = tuner.fit()\n",
        "\n",
        "  return results.get_best_result(\"loss\")"
      ]
    },
    {
      "cell_type": "code",
      "execution_count": null,
      "id": "aqinj6VDM_nn",
      "metadata": {
        "id": "aqinj6VDM_nn"
      },
      "outputs": [],
      "source": [
        "def prepare_data_for_station(station):\n",
        "  data_path = \"/content/drive/MyDrive/master/data/network_input\" #google colab\n",
        "  #data_path = \"data/network_input\"\n",
        "\n",
        "  dataset_path = os.path.join(data_path, station)\n",
        "  data = pd.read_pickle(dataset_path)\n",
        "\n",
        "  feat_data = data.loc[:, data.columns != \"target_value\"]\n",
        "  target_data = data.loc[:, data.columns == \"target_value\"]\n",
        "\n",
        "  feat_arr = feat_data.to_numpy()\n",
        "  target_arr = target_data.to_numpy()\n",
        "\n",
        "  target_arr = np.array(target_arr, dtype=np.float32).reshape(-1, 1)\n",
        "  data_arr_2 = []\n",
        "  for row in feat_arr:\n",
        "      row = np.vstack(row)\n",
        "      data_arr_2.append(row)\n",
        "\n",
        "  target_arr_2 = []\n",
        "  for row in target_arr:\n",
        "      row = np.hstack(row)\n",
        "      for item in row:\n",
        "          target_arr_2.append(item)\n",
        "  data_arr_2 = np.array(data_arr_2, dtype=np.float32)\n",
        "  data_flatten = np.array([row.flatten() for row in data_arr_2])\n",
        "\n",
        "  seq_len = 4\n",
        "  sequences = []\n",
        "  targets = []\n",
        "  flat_seq = []\n",
        "  flat_targets = []\n",
        "\n",
        "  for i in range(len(data_flatten) - seq_len + 1):\n",
        "          sequences.append(data_flatten[i:i + seq_len])  # Wyłączenie ostatniej kolumny (target) z sekwencji\n",
        "          targets.append(np.array([target_arr_2[i + seq_len -1]]))\n",
        "          flat_seq.append(data_flatten[i:i + seq_len].flatten())  # Wyłączenie ostatniej kolumny (target) z sekwencji\n",
        "          flat_targets.append(np.array([target_arr_2[i + seq_len-1]]).flatten())\n",
        "\n",
        "  sequences = np.array(sequences, dtype=np.float32)\n",
        "  targets = np.array(targets, dtype=np.float32)\n",
        "\n",
        "  flat_seq = np.array(flat_seq, dtype=np.float32)\n",
        "  flat_targets = np.array(flat_targets, dtype=np.float32)\n",
        "\n",
        "  train_sequences = sequences[:int(sequences.shape[0] * 0.7)]\n",
        "  train_targets = targets[:int(targets.shape[0] * 0.7)]\n",
        "  test_sequences = sequences[int(sequences.shape[0] * 0.7):]\n",
        "  test_targets = targets[int(targets.shape[0] * 0.7):]\n",
        "\n",
        "  train_flat_sequences = flat_seq[:int(flat_seq.shape[0] * 0.7)]\n",
        "  train_flat_targets = flat_targets[:int(flat_targets.shape[0] * 0.7)]\n",
        "  test_flat_sequences = flat_seq[int(flat_seq.shape[0] * 0.7):]\n",
        "  test_flat_targets = flat_targets[int(flat_targets.shape[0] * 0.7):]\n",
        "\n",
        "  data_tensor = torch.tensor(train_sequences, dtype=torch.float32)\n",
        "  target_tensor = torch.tensor(train_targets, dtype=torch.float32)\n",
        "\n",
        "  test_data_tensor = torch.tensor(test_sequences, dtype=torch.float32)\n",
        "  test_target_tensor = torch.tensor(test_targets, dtype=torch.float32)\n",
        "\n",
        "  return data_tensor, target_tensor, test_data_tensor, test_target_tensor, train_flat_sequences, train_flat_targets, test_flat_sequences, test_flat_targets"
      ]
    },
    {
      "cell_type": "code",
      "execution_count": null,
      "id": "o_ligzZudUL_",
      "metadata": {
        "id": "o_ligzZudUL_"
      },
      "outputs": [],
      "source": [
        "II_112_1_full = \"full_II_112_1.pickle\"\n",
        "II_113_1_full = \"full_II_113_1.pickle\"\n",
        "II_114_1_full = \"full_II_114_1.pickle\"\n",
        "II_115_1_full = \"full_II_115_1.pickle\" # too few data\n",
        "II_116_1_full = \"full_II_116_1.pickle\" # too few data\n",
        "II_131_1_full = \"full_II_131_1.pickle\"\n",
        "II_132_1_full = \"full_II_132_1.pickle\"\n",
        "II_292_1_full = \"full_II_292_1.pickle\"\n",
        "II_297_1_full = \"full_II_297_1.pickle\"\n",
        "II_298_1_full = \"full_II_298_1.pickle\"\n",
        "II_472_1_full = \"full_II_472_1.pickle\"\n",
        "II_922_1_full = \"full_II_922_1.pickle\" # too few data\n",
        "II_924_1_full = \"full_II_924_1.pickle\"\n",
        "II_931_1_full = \"full_II_931_1.pickle\"\n",
        "II_932_1_full = \"full_II_932_1.pickle\" # too few data\n",
        "II_936_1_full = \"full_II_936_1.pickle\" # too few data\n",
        "II_940_1_full = \"full_II_940_1.pickle\"\n",
        "II_949_1_full = \"full_II_949_1.pickle\" # too few data\n",
        "II_951_1_full = \"full_II_951_1.pickle\" # too few data\n",
        "II_952_1_full = \"full_II_952_1.pickle\"\n",
        "II_957_1_full = \"full_II_957_1.pickle\" # too few data\n",
        "II_1345_1_full = \"full_II_1345_1.pickle\"\n",
        "II_1346_1_full = \"full_II_1346_1.pickle\"\n",
        "II_1351_1_full = \"full_II_1351_1.pickle\"\n",
        "II_1352_1_full = \"full_II_1352_1.pickle\"\n",
        "\n",
        "II_112_1_grace = \"grace_II_112_1.pickle\"\n",
        "II_113_1_grace = \"grace_II_113_1.pickle\"\n",
        "II_114_1_grace = \"grace_II_114_1.pickle\"\n",
        "II_115_1_grace = \"grace_II_115_1.pickle\" # too few data\n",
        "II_116_1_grace = \"grace_II_116_1.pickle\" # too few data\n",
        "II_131_1_grace = \"grace_II_131_1.pickle\"\n",
        "II_132_1_grace = \"grace_II_132_1.pickle\"\n",
        "II_292_1_grace = \"grace_II_292_1.pickle\"\n",
        "II_297_1_grace = \"grace_II_297_1.pickle\"\n",
        "II_298_1_grace = \"grace_II_298_1.pickle\"\n",
        "II_472_1_grace = \"grace_II_472_1.pickle\"\n",
        "II_922_1_grace = \"grace_II_922_1.pickle\" # too few data\n",
        "II_924_1_grace = \"grace_II_924_1.pickle\"\n",
        "II_931_1_grace = \"grace_II_931_1.pickle\"\n",
        "II_932_1_grace = \"grace_II_932_1.pickle\" # too few data\n",
        "II_936_1_grace = \"grace_II_936_1.pickle\" # too few data\n",
        "II_940_1_grace = \"grace_II_940_1.pickle\"\n",
        "II_949_1_grace = \"grace_II_949_1.pickle\" # too few data\n",
        "II_951_1_grace = \"grace_II_951_1.pickle\" # too few data\n",
        "II_952_1_grace = \"grace_II_952_1.pickle\"\n",
        "II_957_1_grace = \"grace_II_957_1.pickle\" # too few data\n",
        "II_1345_1_grace = \"grace_II_1345_1.pickle\"\n",
        "II_1346_1_grace = \"grace_II_1346_1.pickle\"\n",
        "II_1351_1_grace = \"grace_II_1351_1.pickle\"\n",
        "II_1352_1_grace = \"grace_II_1352_1.pickle\""
      ]
    },
    {
      "cell_type": "code",
      "execution_count": null,
      "id": "yyMzNG_OiMj-",
      "metadata": {
        "id": "yyMzNG_OiMj-"
      },
      "outputs": [],
      "source": [
        "out_dir = \"/content/drive/MyDrive/master/data/models\" #google colab\n",
        "#out_dir = \"data/models\""
      ]
    },
    {
      "cell_type": "code",
      "execution_count": null,
      "id": "Fvh52ho4tWYE",
      "metadata": {
        "id": "Fvh52ho4tWYE"
      },
      "outputs": [],
      "source": [
        "station = II_297_1_full"
      ]
    },
    {
      "cell_type": "code",
      "execution_count": null,
      "id": "c_XbLsu3MhMf",
      "metadata": {
        "id": "c_XbLsu3MhMf"
      },
      "outputs": [],
      "source": [
        "stations_full = [II_472_1_full, II_952_1_full, II_1345_1_full, II_1346_1_full, II_1351_1_full, II_1352_1_full]\n",
        "stations_grace = [II_472_1_grace, II_952_1_grace, II_1345_1_grace, II_1346_1_grace, II_1351_1_grace, II_1352_1_grace]"
      ]
    },
    {
      "cell_type": "code",
      "execution_count": null,
      "id": "wz7NmbYSPiwa",
      "metadata": {
        "id": "wz7NmbYSPiwa"
      },
      "outputs": [],
      "source": [
        "data_tensor, target_tensor, test_data_tensor, test_target_tensor, train_flat_sequences, train_flat_targets, test_flat_sequences, test_flat_targets = prepare_data_for_station(station)\n",
        "ds = CustomDataset(data_tensor, target_tensor)\n",
        "test_ds = CustomDataset(test_data_tensor, test_target_tensor)\n",
        "\n",
        "best_result = find_best_config(ds, test_ds, data_tensor.shape[2])\n",
        "\n",
        "best_config = best_result.metrics[\"config\"]\n",
        "\n",
        "print(best_config)\n"
      ]
    },
    {
      "cell_type": "markdown",
      "id": "f2bdea43",
      "metadata": {},
      "source": [
        "You can replace best_config[\"variable\"] with your values that you want to test"
      ]
    },
    {
      "cell_type": "code",
      "execution_count": null,
      "id": "yr-8P552e50Q",
      "metadata": {
        "id": "yr-8P552e50Q"
      },
      "outputs": [],
      "source": [
        "ds = CustomDataset(data_tensor, target_tensor)\n",
        "test_ds = CustomDataset(test_data_tensor, test_target_tensor)\n",
        "\n",
        "old_loss = 99999999999\n",
        "\n",
        "train_loader = DataLoader(ds, batch_size=best_config[\"batch_size\"], shuffle=False)\n",
        "\n",
        "test_dataloader = DataLoader(test_ds, batch_size=best_config[\"batch_size\"], shuffle=False)\n",
        "\n",
        "early_stopping = EarlyStopping(tolerance=best_config[\"tolerance\"], min_delta=best_config[\"min_delta\"])\n",
        "\n",
        "model = LSTMModel(best_config[\"input_size\"], best_config[\"hidden_size\"], best_config[\"num_layer\"], 1)\n",
        "model.to(device)\n",
        "criterion = torch.nn.HuberLoss()\n",
        "\n",
        "optimizer = torch.optim.SGD(model.parameters(), lr=best_config[\"learning_rate\"])\n",
        "\n",
        "epoch_test_loss = 0\n",
        "epoch_test_losses = []\n",
        "epoch_losses = []\n",
        "for epoch in range(best_config[\"epoch\"]):\n",
        "    epoch_test_loss = []\n",
        "    epoch_loss = []\n",
        "    model.train()\n",
        "    for batch_x, batch_y in train_loader:\n",
        "        batch_x = batch_x.to(device)\n",
        "        batch_y = batch_y.to(device)\n",
        "        optimizer.zero_grad()\n",
        "        y_pred = model(batch_x)\n",
        "        loss = criterion(y_pred, batch_y).to(device)\n",
        "        loss.backward()\n",
        "        epoch_loss.append(loss.item())\n",
        "        optimizer.step()\n",
        "    epoch_loss = np.sum(epoch_loss)\n",
        "    epoch_losses.append(epoch_loss)\n",
        "\n",
        "    model.eval()\n",
        "\n",
        "    with torch.no_grad():\n",
        "        for batch_test_x, batch_test_y in test_dataloader:\n",
        "            batch_test_x = batch_test_x.to(device)\n",
        "            batch_test_y = batch_test_y.to(device)\n",
        "            y_test_pred = model(batch_test_x)\n",
        "            test_loss = criterion(y_test_pred, batch_test_y).to(device)\n",
        "            epoch_test_loss.append(test_loss.item())\n",
        "        epoch_test_loss = np.sum(epoch_test_loss)\n",
        "        epoch_test_losses.append(epoch_test_loss)\n",
        "\n",
        "    early_stopping(epoch_loss, epoch_test_loss)\n",
        "    if early_stopping.early_stop:\n",
        "        break"
      ]
    },
    {
      "cell_type": "code",
      "execution_count": null,
      "id": "eaa2d4a6-df3d-4a76-92ee-5f1bd89a5a28",
      "metadata": {
        "colab": {
          "base_uri": "https://localhost:8080/"
        },
        "id": "eaa2d4a6-df3d-4a76-92ee-5f1bd89a5a28",
        "outputId": "b16e525d-0dff-4cb5-d8c6-823834a9e9cf"
      },
      "outputs": [],
      "source": [
        "y_true = []\n",
        "y_pred = []\n",
        "model.cpu()\n",
        "model.eval()\n",
        "with torch.no_grad():\n",
        "    for batch_x, batch_y in test_dataloader:\n",
        "        y_true += batch_y.tolist()\n",
        "        y_pred += model(batch_x).tolist()\n",
        "        break\n",
        "mse = mean_squared_error(y_true, y_pred)\n",
        "mae = mean_absolute_error(y_true, y_pred)\n",
        "\n",
        "print(f\"MSE: {mse:.4f}\")\n",
        "print(f\"MAE: {mae:.4f}\")\n",
        "print(y_pred[0], y_pred[1], y_pred[2], y_true[0])"
      ]
    },
    {
      "cell_type": "code",
      "execution_count": null,
      "id": "JEjle4uocWDs",
      "metadata": {
        "id": "JEjle4uocWDs"
      },
      "outputs": [],
      "source": [
        "torch.save(model, os.path.join(out_dir, \"model_\" + station[:-6] + \".pt\"))"
      ]
    },
    {
      "cell_type": "code",
      "execution_count": null,
      "id": "85f6f4c3",
      "metadata": {
        "colab": {
          "base_uri": "https://localhost:8080/"
        },
        "id": "85f6f4c3",
        "outputId": "6fcd4b29-be95-4742-bb96-3f25aa18b493"
      },
      "outputs": [],
      "source": [
        "xgb_model = xgb.XGBRegressor()\n",
        "trained_model = xgb_model.fit(train_flat_sequences, train_flat_targets)\n",
        "\n",
        "test_forecasts = trained_model.predict(test_flat_sequences)\n",
        "print(test_forecasts.shape)"
      ]
    },
    {
      "cell_type": "code",
      "execution_count": null,
      "id": "n3RzvQCnQjvy",
      "metadata": {
        "colab": {
          "base_uri": "https://localhost:8080/"
        },
        "id": "n3RzvQCnQjvy",
        "outputId": "e52d95f4-2f15-425a-c4c2-42c42e13101e"
      },
      "outputs": [],
      "source": [
        "xgb_mse = mean_squared_error(test_flat_targets, test_forecasts)\n",
        "xgb_mae = mean_absolute_error(test_flat_targets, test_forecasts)\n",
        "\n",
        "print(f\"MSE: {xgb_mse:.4f}\")\n",
        "print(f\"MAE: {xgb_mae:.4f}\")"
      ]
    }
  ],
  "metadata": {
    "accelerator": "GPU",
    "colab": {
      "gpuType": "T4",
      "provenance": []
    },
    "kernelspec": {
      "display_name": "Python 3",
      "name": "python3"
    },
    "language_info": {
      "codemirror_mode": {
        "name": "ipython",
        "version": 3
      },
      "file_extension": ".py",
      "mimetype": "text/x-python",
      "name": "python",
      "nbconvert_exporter": "python",
      "pygments_lexer": "ipython3",
      "version": "3.10.5"
    }
  },
  "nbformat": 4,
  "nbformat_minor": 5
}
